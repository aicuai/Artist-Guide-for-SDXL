{
  "nbformat": 4,
  "nbformat_minor": 0,
  "metadata": {
    "colab": {
      "provenance": [],
      "machine_shape": "hm",
      "gpuType": "A100",
      "authorship_tag": "ABX9TyP+67z8xS60tChRbz6klJpQ",
      "include_colab_link": true
    },
    "kernelspec": {
      "name": "python3",
      "display_name": "Python 3"
    },
    "language_info": {
      "name": "python"
    },
    "accelerator": "GPU"
  },
  "cells": [
    {
      "cell_type": "markdown",
      "metadata": {
        "id": "view-in-github",
        "colab_type": "text"
      },
      "source": [
        "<a href=\"https://colab.research.google.com/github/aicuai/Artist-Guide-for-SDXL/blob/main/StableCascade.ipynb\" target=\"_parent\"><img src=\"https://colab.research.google.com/assets/colab-badge.svg\" alt=\"Open In Colab\"/></a>"
      ]
    },
    {
      "cell_type": "markdown",
      "source": [
        "# Stable Cascade\n",
        "\n",
        "https://huggingface.co/stabilityai/stable-cascade\n",
        "\n",
        "Tested on A100 GPU\n",
        "\n",
        "Google Colab で試す Stable Cascade\n",
        "https://note.com/aicu/n/n1050c8472c08\n",
        "\n",
        "AICU Inc.\n",
        "https://j.aicu.ai/StableCascade\n",
        "\n",
        "![](https://assets.st-note.com/production/uploads/images/130790455/rectangle_large_type_2_4c1a4b305ad89d82e3f4110fc1ef0e77.png?width=2000&height=2000&fit=bounds&format=jpg&quality=85)"
      ],
      "metadata": {
        "id": "_EFUpnJuNf4b"
      }
    },
    {
      "cell_type": "code",
      "execution_count": null,
      "metadata": {
        "id": "Ph_Ydni5Nas_"
      },
      "outputs": [],
      "source": [
        "!pip install git+https://github.com/kashif/diffusers.git@wuerstchen-v3\n",
        "!pip install accelerate\n",
        "!pip install peft"
      ]
    },
    {
      "cell_type": "code",
      "source": [
        "import torch\n",
        "from diffusers import StableCascadeDecoderPipeline, StableCascadePriorPipeline\n",
        "\n",
        "device = \"cuda\"\n",
        "num_images_per_prompt = 2\n",
        "\n",
        "prior = StableCascadePriorPipeline.from_pretrained(\"stabilityai/stable-cascade-prior\", torch_dtype=torch.bfloat16).to(device)\n",
        "decoder = StableCascadeDecoderPipeline.from_pretrained(\"stabilityai/stable-cascade\",  torch_dtype=torch.float16).to(device)\n",
        "\n",
        "prompt = \"Anthropomorphic cat dressed as a pilot\"\n",
        "negative_prompt = \"\"\n",
        "\n",
        "prior_output = prior(\n",
        "    prompt=prompt,\n",
        "    height=1024,\n",
        "    width=1024,\n",
        "    negative_prompt=negative_prompt,\n",
        "    guidance_scale=4.0,\n",
        "    num_images_per_prompt=num_images_per_prompt,\n",
        "    num_inference_steps=20\n",
        ")\n",
        "decoder_output = decoder(\n",
        "    image_embeddings=prior_output.image_embeddings.half(),\n",
        "    prompt=prompt,\n",
        "    negative_prompt=negative_prompt,\n",
        "    guidance_scale=0.0,\n",
        "    output_type=\"pil\",\n",
        "    num_inference_steps=10\n",
        ").images\n",
        "\n",
        "decoder_output[0].save(\"image0.png\",\"PNG\")\n",
        "decoder_output[1].save(\"image1.png\",\"PNG\")\n"
      ],
      "metadata": {
        "id": "0VXRHVzuNkjt"
      },
      "execution_count": null,
      "outputs": []
    },
    {
      "cell_type": "code",
      "source": [
        "\n",
        "prompt = \"miku\"\n",
        "negative_prompt = \"worst quality\"\n",
        "\n",
        "prior_output = prior(\n",
        "    prompt=prompt,\n",
        "    height=1024,\n",
        "    width=1024,\n",
        "    negative_prompt=negative_prompt,\n",
        "    guidance_scale=4.0,\n",
        "    num_images_per_prompt=num_images_per_prompt,\n",
        "    num_inference_steps=20\n",
        ")\n",
        "decoder_output = decoder(\n",
        "    image_embeddings=prior_output.image_embeddings.half(),\n",
        "    prompt=prompt,\n",
        "    negative_prompt=negative_prompt,\n",
        "    guidance_scale=0.0,\n",
        "    output_type=\"pil\",\n",
        "    num_inference_steps=10\n",
        ").images\n",
        "\n",
        "\n",
        "decoder_output[0].save(\"miku1.png\",\"PNG\")\n",
        "decoder_output[1].save(\"miku2.png\",\"PNG\")"
      ],
      "metadata": {
        "id": "yifsT0btRlJ8"
      },
      "execution_count": null,
      "outputs": []
    },
    {
      "cell_type": "code",
      "source": [
        "\n",
        "prompt = \"masterpiece, 1girl, looking at viewer, V sign hand,  slightly smile, best quality, with blue short bob hair, with red rim glasses, anime style\"\n",
        "negative_prompt = \"worst quality, fused fingers, too many fingers, extra fingers\"\n",
        "\n",
        "prior_output = prior(\n",
        "    prompt=prompt,\n",
        "    height=1024,\n",
        "    width=2048,\n",
        "    negative_prompt=negative_prompt,\n",
        "    guidance_scale=4.0,\n",
        "    num_images_per_prompt=num_images_per_prompt,\n",
        "    num_inference_steps=20\n",
        ")\n",
        "decoder_output = decoder(\n",
        "    image_embeddings=prior_output.image_embeddings.half(),\n",
        "    prompt=prompt,\n",
        "    negative_prompt=negative_prompt,\n",
        "    guidance_scale=0.0,\n",
        "    output_type=\"pil\",\n",
        "    num_inference_steps=10\n",
        ").images\n",
        "\n",
        "\n",
        "decoder_output[0].save(\"koto3.png\",\"PNG\")\n",
        "decoder_output[1].save(\"koto4.png\",\"PNG\")"
      ],
      "metadata": {
        "id": "egNkU8bvZODP"
      },
      "execution_count": null,
      "outputs": []
    },
    {
      "cell_type": "code",
      "source": [
        "\n",
        "prompt = \"masterpiece, 1girl, looking at viewer, giving a chocolate box, best quality, with blue short bob hair, with red rim glasses, red cheek, anime style\"\n",
        "negative_prompt = \"worst quality, fused fingers, too many fingers, extra fingers\"\n",
        "\n",
        "prior_output = prior(\n",
        "    prompt=prompt,\n",
        "    height=1024,\n",
        "    width=2048,\n",
        "    negative_prompt=negative_prompt,\n",
        "    guidance_scale=4.0,\n",
        "    num_images_per_prompt=num_images_per_prompt,\n",
        "    num_inference_steps=20\n",
        ")\n",
        "decoder_output = decoder(\n",
        "    image_embeddings=prior_output.image_embeddings.half(),\n",
        "    prompt=prompt,\n",
        "    negative_prompt=negative_prompt,\n",
        "    guidance_scale=0.0,\n",
        "    output_type=\"pil\",\n",
        "    num_inference_steps=10\n",
        ").images\n",
        "\n",
        "\n",
        "decoder_output[0].save(\"koto_choco1.png\",\"PNG\")\n",
        "decoder_output[1].save(\"koto_choco2.png\",\"PNG\")"
      ],
      "metadata": {
        "id": "2nP-4Artc9u-"
      },
      "execution_count": null,
      "outputs": []
    }
  ]
}