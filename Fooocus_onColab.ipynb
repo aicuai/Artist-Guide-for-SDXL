{
  "nbformat": 4,
  "nbformat_minor": 0,
  "metadata": {
    "colab": {
      "private_outputs": true,
      "provenance": [],
      "gpuType": "T4",
      "cell_execution_strategy": "setup",
      "mount_file_id": "1qvoLzTE6Y_fYLLRTlUoigTc2jgJYu2Bv",
      "authorship_tag": "ABX9TyOSEl2AEXT5hjn96Z12A338",
      "include_colab_link": true
    },
    "kernelspec": {
      "name": "python3",
      "display_name": "Python 3"
    },
    "language_info": {
      "name": "python"
    },
    "accelerator": "GPU"
  },
  "cells": [
    {
      "cell_type": "markdown",
      "metadata": {
        "id": "view-in-github",
        "colab_type": "text"
      },
      "source": [
        "<a href=\"https://colab.research.google.com/github/aicuai/Artist-Guide-for-SDXL/blob/main/Fooocus_onColab.ipynb\" target=\"_parent\"><img src=\"https://colab.research.google.com/assets/colab-badge.svg\" alt=\"Open In Colab\"/></a>"
      ]
    },
    {
      "cell_type": "markdown",
      "source": [
        "# Fooocus 日本語アニメ特化版 [j.aicu.ai/FoooC](https://j.aicu.ai/FoooC)\n",
        "\n",
        "Version 20240111\n",
        "\n",
        "このコードは midJourneyや nijiJourneyスタイルのカンタン高画質のAI画像生成が行える「Fooocus」をAICU社が原作そのままに Google Colab (無料も一部可) を使って、日本語版で動くようにしたものです。\n",
        "\n",
        "配布等は原作のライセンスに従います。\n",
        "\n",
        "https://github.com/lllyasviel/Fooocus/blob/main/fooocus_colab.ipynb\n",
        "\n",
        "- [AICU社によるFooocus解説記事](https://corp.aicu.ai/hs-search-results?term=Fooocus)\n",
        "- [このスクリプトを管理しているリポジトリ](https://github.com/aicuai/Artist-Guide-for-SDXL/)\n",
        "- [日本語化プロジェクトリポジトリ](https://github.com/aicuai/Fooocus/blob/ja/language/ja.json) 貢献したいひといらっしゃいますか？\n",
        "\n",
        "☆なお日本語版翻訳にあたっては「**小学生でもお年寄りでもわかる日本語**」というコンセプトで翻訳しています。なぜなら中途半端なカタカナ英語でもわかる方や、CGの知識がある方々なら英語原作版を使えばよいからです。より多くの人々に Fooocus を使っていただきたい気持ちで翻訳しています。\n",
        "\n",
        "## 超初心者向け使い方\n",
        "\n",
        "ランタイムを実行「▶」を押してしばらくお待ち下さい。 https://....gradio.com のURLが表示されたらそれをクリックして別タブで遊べます。最大72時間有効ですが、途中で切断されたり止まったり、エラーが出た場合は「■」（停止）をしてもう一度「▶」を押してください。\n",
        "\n",
        "## 起動オプション\n",
        "\n",
        "Colabでは、Fooocus Default/Anime/Realisticエディションの場合、最後の行を !python entry_with_update.py --share または !python entry_with_update.py --preset anime --share または !python entry_with_update.py --preset realistic --share に変更してください。\n",
        "\n",
        "需要があるようならGUIで操作できるスイッチにします。\n",
        "\n",
        "## Google Driveへの保存について\n",
        "\n",
        "オリジナルの Fooocus には何故か指定ディレクトリに保存する機能がないのですが、このスクリプトでは Google Driveの マイドライブ直下「Fooocus-outputs」に保存されるようにしました。これでセッションが切れてもだいじょうぶ！\n",
        "メインのリポジトリに回収してもらえると嬉しいな。\n",
        "\n",
        "## 無料版 Colab での動作について\n",
        "このColabはデフォルトでrefinerを無効にすることに注意してください。なぜならColab freeのリソースは比較的限られているからです(そして画像プロンプトのようないくつかの「大きな」機能はfree-tier Colabの切断を引き起こすかもしれません)。フリー版のColabでは、基本的なテキストから画像への変換が常に動作するようにしています。\n",
        "\n",
        "→確認したところ Image Prompt 「画像で指示」は Google Colab Pro T4 GPU では動きませんでした。"
      ],
      "metadata": {
        "id": "xwciD8nyDILt"
      }
    },
    {
      "cell_type": "code",
      "execution_count": null,
      "metadata": {
        "id": "KZYJfKVuDCOM"
      },
      "outputs": [],
      "source": [
        "# @title Fooocus JP + Google Drive output\n",
        "\n",
        "from google.colab import drive\n",
        "import os\n",
        "\n",
        "drive.mount('/content/gdrive')\n",
        "target_drive_dir = \"/content/gdrive/MyDrive/Fooocus-outputs\"\n",
        "target_local_dir = \"/Fooocus/outputs\"\n",
        "os.makedirs(target_drive_dir, exist_ok=True)\n",
        "\n",
        "!pip install pygit2==1.12.2\n",
        "%cd /content\n",
        "!git clone https://github.com/lllyasviel/Fooocus.git\n",
        "\n",
        "# Add patch to jp\n",
        "ja_json_url = \"https://raw.githubusercontent.com/aicuai/Fooocus/ja/language/ja.json\"\n",
        "ja_json_path = \"/content/Fooocus/language/ja.json\"\n",
        "os.makedirs(os.path.dirname(ja_json_path), exist_ok=True)\n",
        "!curl -L -o {ja_json_path} {ja_json_url}\n",
        "print(f\"ja.json downloaded and saved to {ja_json_path}\")\n",
        "\n",
        "# symlink\n",
        "!ln -s {target_drive_dir} {target_local_dir}\n",
        "\n",
        "%cd /content/Fooocus\n",
        "# !python entry_with_update.py --share\n",
        "# !python entry_with_update.py --preset anime --share\n",
        "!python entry_with_update.py --preset anime --share --language ja\n",
        "\n",
        "\n"
      ]
    },
    {
      "cell_type": "code",
      "source": [
        "# @markdown # [使用後]生成した画像を圧縮して退避します\n",
        "!rm /content/outputs.zip\n",
        "%cd /content/Fooocus/\n",
        "!zip -r  ../outputs.zip ./outputs\n",
        "# @markdown ### Google Drive のマイドライブ直下に「Fooocus-outputs」フォルダに展開します\n",
        "\n",
        "MyDrive_Path = \"/content/drive/MyDrive/Fooocus-outputs\" # @param {type:\"string\"}\n",
        "\n",
        "# @markdown  **空白** にして実行すると直接ダウンロードします。\n",
        "from google.colab import files\n",
        "\n",
        "if MyDrive_Path!=\"\" :\n",
        "  !unzip -o /content/outputs.zip -d $MyDrive_Path\n",
        "else:\n",
        "  files.download('/content/outputs.zip')\n",
        "\n",
        "\n"
      ],
      "metadata": {
        "id": "Eyv-VVZgrftx"
      },
      "execution_count": null,
      "outputs": []
    }
  ]
}